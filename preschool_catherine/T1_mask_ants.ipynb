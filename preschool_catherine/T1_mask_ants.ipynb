{
 "cells": [
  {
   "cell_type": "code",
   "execution_count": 4,
   "metadata": {},
   "outputs": [],
   "source": [
    "scan_id = 'PS14_001'\n",
    "\n",
    "import os, sys  # system functions\n",
    "import nipype.interfaces.io as nio  # Data i/o\n",
    "import nipype.interfaces.fsl as fsl  # fsl\n",
    "import nipype.pipeline.engine as pe  # pypeline engine\n",
    "import nipype.interfaces.utility as util  # utility\n",
    "import nipype.interfaces.ants as ants\n",
    "from nipype.interfaces.c3 import C3dAffineTool\n",
    "from nipype.interfaces.ants.segmentation import BrainExtraction\n",
    "\n",
    "import multiprocessing, time\n",
    "from multiprocessing import Pool\n",
    "nprocs=multiprocessing.cpu_count()\n",
    "\n",
    "start_time = time.time()\n"
   ]
  },
  {
   "cell_type": "code",
   "execution_count": 5,
   "metadata": {},
   "outputs": [],
   "source": [
    "fsl.FSLCommand.set_default_output_type('NIFTI_GZ')"
   ]
  },
  {
   "cell_type": "code",
   "execution_count": 7,
   "metadata": {},
   "outputs": [],
   "source": [
    "\n",
    "main_dir = \"/media/data/EPI_REG/\"\n",
    "project_dir = main_dir+\"/Analysis/\"\n",
    "work_dir = main_dir+\"/scratch/\"\n",
    "\n",
    "if not os.path.exists(work_dir):\n",
    "    os.makedirs(work_dir)\n",
    "\n",
    "template_brain = os.path.join(project_dir,'MNI','nihpd_asym_04.5-08.5_t1w.nii')\n",
    "moving_image = project_dir+\"/\"+scan_id+\"/PS14_001_T1w_n4.nii\"\n",
    "\n"
   ]
  },
  {
   "cell_type": "code",
   "execution_count": 8,
   "metadata": {},
   "outputs": [
    {
     "data": {
      "text/plain": [
       "'/media/data/EPI_REG//Analysis/MNI/nihpd_asym_04.5-08.5_t1w.nii'"
      ]
     },
     "execution_count": 8,
     "metadata": {},
     "output_type": "execute_result"
    }
   ],
   "source": [
    "template_brain"
   ]
  },
  {
   "cell_type": "code",
   "execution_count": 9,
   "metadata": {},
   "outputs": [
    {
     "data": {
      "text/plain": [
       "'/media/data/EPI_REG//Analysis//PS14_001/PS14_001_T1w_n4.nii'"
      ]
     },
     "execution_count": 9,
     "metadata": {},
     "output_type": "execute_result"
    }
   ],
   "source": [
    "moving_image"
   ]
  },
  {
   "cell_type": "code",
   "execution_count": 12,
   "metadata": {},
   "outputs": [],
   "source": [
    "\n",
    "\"\"\"\n",
    "Create workflow\n",
    "\"\"\"\n",
    "\n",
    "wf = pe.Workflow(name='wf')\n",
    "wf.base_dir = os.path.join(work_dir, \"reg_wdir\", scan_id)\n",
    "wf.config = {\"execution\": {\"crashdump_dir\": os.path.join(work_dir, 'reg_crashdumps', scan_id)}}\n",
    "\n",
    "\"\"\"\n",
    "Register T1 to MNI\n",
    "\"\"\"\n",
    "reg = pe.Node(ants.Registration(), name='antsRegister')\n",
    "reg.inputs.output_transform_prefix = \"anat2mni_\"\n",
    "reg.inputs.transforms = ['Rigid', 'Affine', 'SyN']\n",
    "reg.inputs.transform_parameters = [(0.1,), (0.1,), (0.2, 3.0, 0.0)]\n",
    "reg.inputs.number_of_iterations = [[10000,111110,11110]] * 2 + [[100, 100, 50]]\n",
    "reg.inputs.dimension = 3\n",
    "reg.inputs.write_composite_transform = True\n",
    "reg.inputs.collapse_output_transforms = True\n",
    "reg.inputs.initial_moving_transform_com = True\n",
    "reg.inputs.metric = ['Mattes'] * 2 + [['Mattes', 'CC']]\n",
    "reg.inputs.metric_weight = [1] * 2 + [[0.5, 0.5]]\n",
    "reg.inputs.radius_or_number_of_bins = [32] * 2 + [[32, 4]]\n",
    "reg.inputs.sampling_strategy = ['Regular'] * 2 + [[None, None]]\n",
    "reg.inputs.sampling_percentage = [0.3] * 2 + [[None, None]]\n",
    "reg.inputs.convergence_threshold = [1.e-7] * 2 + [-0.01]\n",
    "reg.inputs.convergence_window_size = [20] * 2 + [5]\n",
    "reg.inputs.smoothing_sigmas = [[4, 2, 1]] * 2 + [[1, 0.5, 0]]\n",
    "reg.inputs.sigma_units = ['vox'] * 3\n",
    "reg.inputs.shrink_factors = [[3, 2, 1]]*2 + [[4, 2, 1]]\n",
    "reg.inputs.use_estimate_learning_rate_once = [True] * 3\n",
    "reg.inputs.use_histogram_matching = [False] * 2 + [True]\n",
    "reg.inputs.winsorize_lower_quantile = 0.005\n",
    "reg.inputs.winsorize_upper_quantile = 0.995\n",
    "reg.inputs.args = '--float'\n",
    "reg.inputs.output_warped_image = 'anat2mni_warped_image.nii.gz'\n",
    "reg.inputs.output_inverse_warped_image = 'mni2anat_warped_image.nii.gz'\n",
    "reg.inputs.num_threads = 2\n",
    "\n",
    "reg.inputs.fixed_image=template_brain\n",
    "reg.inputs.moving_image=moving_image"
   ]
  },
  {
   "cell_type": "code",
   "execution_count": 27,
   "metadata": {},
   "outputs": [],
   "source": [
    "\n",
    "\"\"\"\n",
    "Transform MNI mask, which is aligned to T1, to MNI\n",
    "\"\"\"\n",
    "\n",
    "warp_mask = pe.MapNode(ants.ApplyTransforms(), iterfield=['input_image','transforms'], name='warp_mask')\n",
    "warp_mask.inputs.input_image_type = 0\n",
    "warp_mask.inputs.interpolation = 'Linear'\n",
    "warp_mask.inputs.invert_transform_flags = [False]\n",
    "# warp_mask.inputs.terminal_output = 'file'\n",
    "warp_mask.inputs.input_image = os.path.join(project_dir,'MNI','nihpd_asym_04.5-08.5_mask.nii')\n",
    "\n",
    "wf.connect(reg, 'inverse_composite_transform', warp_mask, 'transforms') # using transform matrix from t1 to mni\n",
    "warp_mask.inputs.reference_image = moving_image\n"
   ]
  },
  {
   "cell_type": "code",
   "execution_count": 29,
   "metadata": {},
   "outputs": [],
   "source": [
    "\n",
    "\"\"\"\n",
    "Save data\n",
    "\"\"\"\n",
    "\n",
    "datasink = pe.Node(nio.DataSink(), name='sinker')\n",
    "datasink.inputs.base_directory = os.path.join(project_dir, \"reg\")\n",
    "\n",
    "datasink.inputs.container = scan_id\n",
    "\n",
    "wf.connect(reg, 'warped_image', datasink, 'anat.anat2mni')\n",
    "wf.connect(reg, 'inverse_warped_image', datasink, 'anat.mni2anat')\n",
    "wf.connect(reg, 'composite_transform', datasink, 'anat.anat2mni_mat')\n",
    "wf.connect(reg, 'inverse_composite_transform', datasink, 'anat.mni2anat_mat')\n",
    "wf.connect(warp_mask, 'output_image', datasink, 'anat.mask2t1')\n"
   ]
  },
  {
   "cell_type": "code",
   "execution_count": 30,
   "metadata": {},
   "outputs": [
    {
     "name": "stdout",
     "output_type": "stream",
     "text": [
      "180306-17:56:39,94 workflow INFO:\n",
      "\t Workflow wf settings: ['check', 'execution', 'logging', 'monitoring']\n",
      "180306-17:56:39,108 workflow INFO:\n",
      "\t Running in parallel.\n",
      "180306-17:56:39,121 workflow INFO:\n",
      "\t [MultiProc] Running 0 tasks, and 1 jobs ready. Free memory (GB): 28.21/28.21, Free processors: 6/6.\n",
      "180306-17:56:39,230 workflow INFO:\n",
      "\t [Node] Setting-up \"wf.antsRegister\" in \"/media/data/EPI_REG/scratch/reg_wdir/PS14_001/wf/antsRegister\".\n",
      "180306-17:56:39,247 workflow INFO:\n",
      "\t [Node] Running \"antsRegister\" (\"nipype.interfaces.ants.registration.Registration\"), a CommandLine Interface with command:\n",
      "antsRegistration --float --collapse-output-transforms 1 --dimensionality 3 --initial-moving-transform [ /media/data/EPI_REG//Analysis/MNI/nihpd_asym_04.5-08.5_t1w.nii, /media/data/EPI_REG//Analysis//PS14_001/PS14_001_T1w_n4.nii, 1 ] --initialize-transforms-per-stage 0 --interpolation Linear --output [ anat2mni_, anat2mni_warped_image.nii.gz, mni2anat_warped_image.nii.gz ] --transform Rigid[ 0.1 ] --metric Mattes[ /media/data/EPI_REG//Analysis/MNI/nihpd_asym_04.5-08.5_t1w.nii, /media/data/EPI_REG//Analysis//PS14_001/PS14_001_T1w_n4.nii, 1, 32, Regular, 0.3 ] --convergence [ 10000x111110x11110, 1e-07, 20 ] --smoothing-sigmas 4.0x2.0x1.0vox --shrink-factors 3x2x1 --use-estimate-learning-rate-once 1 --use-histogram-matching 0 --transform Affine[ 0.1 ] --metric Mattes[ /media/data/EPI_REG//Analysis/MNI/nihpd_asym_04.5-08.5_t1w.nii, /media/data/EPI_REG//Analysis//PS14_001/PS14_001_T1w_n4.nii, 1, 32, Regular, 0.3 ] --convergence [ 10000x111110x11110, 1e-07, 20 ] --smoothing-sigmas 4.0x2.0x1.0vox --shrink-factors 3x2x1 --use-estimate-learning-rate-once 1 --use-histogram-matching 0 --transform SyN[ 0.2, 3.0, 0.0 ] --metric Mattes[ /media/data/EPI_REG//Analysis/MNI/nihpd_asym_04.5-08.5_t1w.nii, /media/data/EPI_REG//Analysis//PS14_001/PS14_001_T1w_n4.nii, 0.5, 32 ] --metric CC[ /media/data/EPI_REG//Analysis/MNI/nihpd_asym_04.5-08.5_t1w.nii, /media/data/EPI_REG//Analysis//PS14_001/PS14_001_T1w_n4.nii, 0.5, 4 ] --convergence [ 100x100x50, -0.01, 5 ] --smoothing-sigmas 1.0x0.5x0.0vox --shrink-factors 4x2x1 --use-estimate-learning-rate-once 1 --use-histogram-matching 1 --winsorize-image-intensities [ 0.005, 0.995 ]  --write-composite-transform 1\n",
      "180306-17:56:41,117 workflow INFO:\n",
      "\t [MultiProc] Running 1 tasks, and 0 jobs ready. Free memory (GB): 28.01/28.21, Free processors: 4/6.\n",
      "                     Currently running:\n",
      "                       * wf.antsRegister\n",
      "180307-01:33:19,256 workflow INFO:\n",
      "\t [Node] Finished \"wf.antsRegister\".\n",
      "180307-01:33:20,257 workflow INFO:\n",
      "\t [Job 0] Completed (wf.antsRegister).\n",
      "180307-01:33:20,261 workflow INFO:\n",
      "\t [MultiProc] Running 0 tasks, and 1 jobs ready. Free memory (GB): 28.21/28.21, Free processors: 6/6.\n",
      "180307-01:33:20,347 workflow INFO:\n",
      "\t [Node] Setting-up \"wf.warp_mask\" in \"/media/data/EPI_REG/scratch/reg_wdir/PS14_001/wf/warp_mask\".\n",
      "180307-01:33:20,361 workflow INFO:\n",
      "\t [Node] Setting-up \"_warp_mask0\" in \"/media/data/EPI_REG/scratch/reg_wdir/PS14_001/wf/warp_mask/mapflow/_warp_mask0\".\n",
      "180307-01:33:20,370 workflow INFO:\n",
      "\t [Node] Running \"_warp_mask0\" (\"nipype.interfaces.ants.resampling.ApplyTransforms\"), a CommandLine Interface with command:\n",
      "antsApplyTransforms --default-value 0 --input /media/data/EPI_REG//Analysis/MNI/nihpd_asym_04.5-08.5_mask.nii --input-image-type 0 --interpolation Linear --output nihpd_asym_04.5-08.5_mask_trans.nii --reference-image /media/data/EPI_REG//Analysis//PS14_001/PS14_001_T1w_n4.nii --transform [ /media/data/EPI_REG/scratch/reg_wdir/PS14_001/wf/antsRegister/anat2mni_InverseComposite.h5, 0 ]\n",
      "180307-01:33:22,260 workflow INFO:\n",
      "\t [MultiProc] Running 1 tasks, and 0 jobs ready. Free memory (GB): 28.01/28.21, Free processors: 5/6.\n",
      "                     Currently running:\n",
      "                       * wf.warp_mask\n",
      "180307-01:33:34,873 workflow INFO:\n",
      "\t [Node] Finished \"_warp_mask0\".\n",
      "180307-01:33:34,880 workflow INFO:\n",
      "\t [Node] Finished \"wf.warp_mask\".\n",
      "180307-01:33:36,273 workflow INFO:\n",
      "\t [Job 1] Completed (wf.warp_mask).\n",
      "180307-01:33:36,277 workflow INFO:\n",
      "\t [MultiProc] Running 0 tasks, and 1 jobs ready. Free memory (GB): 28.21/28.21, Free processors: 6/6.\n",
      "180307-01:33:36,363 workflow INFO:\n",
      "\t [Node] Setting-up \"wf.sinker\" in \"/media/data/EPI_REG/scratch/reg_wdir/PS14_001/wf/sinker\".\n",
      "180307-01:33:36,377 workflow INFO:\n",
      "\t [Node] Running \"sinker\" (\"nipype.interfaces.io.DataSink\")\n",
      "180307-01:33:36,394 workflow INFO:\n",
      "\t [Node] Finished \"wf.sinker\".\n",
      "180307-01:33:38,275 workflow INFO:\n",
      "\t [Job 2] Completed (wf.sinker).\n",
      "180307-01:33:38,279 workflow INFO:\n",
      "\t [MultiProc] Running 0 tasks, and 0 jobs ready. Free memory (GB): 28.21/28.21, Free processors: 6/6.\n",
      "--- 28998.004395723343 seconds ---\n"
     ]
    }
   ],
   "source": [
    "\n",
    "\"\"\"\n",
    "Run\n",
    "\"\"\"\n",
    "outgraph = wf.run(plugin='MultiProc')\n",
    "\n",
    "print(\"--- %s seconds ---\" % (time.time() - start_time))\n"
   ]
  },
  {
   "cell_type": "code",
   "execution_count": 25,
   "metadata": {},
   "outputs": [
    {
     "data": {
      "text/plain": [
       "'file'"
      ]
     },
     "execution_count": 25,
     "metadata": {},
     "output_type": "execute_result"
    }
   ],
   "source": [
    "warp_mask.inputs.terminal_output"
   ]
  },
  {
   "cell_type": "code",
   "execution_count": 31,
   "metadata": {},
   "outputs": [
    {
     "data": {
      "text/plain": [
       "'/home/hongfu'"
      ]
     },
     "execution_count": 31,
     "metadata": {},
     "output_type": "execute_result"
    }
   ],
   "source": [
    "pwd"
   ]
  },
  {
   "cell_type": "code",
   "execution_count": null,
   "metadata": {},
   "outputs": [],
   "source": []
  }
 ],
 "metadata": {
  "kernelspec": {
   "display_name": "Python 3",
   "language": "python",
   "name": "python3"
  },
  "language_info": {
   "codemirror_mode": {
    "name": "ipython",
    "version": 3
   },
   "file_extension": ".py",
   "mimetype": "text/x-python",
   "name": "python",
   "nbconvert_exporter": "python",
   "pygments_lexer": "ipython3",
   "version": "3.6.4"
  }
 },
 "nbformat": 4,
 "nbformat_minor": 2
}
