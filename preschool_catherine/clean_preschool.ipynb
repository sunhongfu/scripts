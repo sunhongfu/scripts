{
 "cells": [
  {
   "cell_type": "code",
   "execution_count": 98,
   "metadata": {},
   "outputs": [],
   "source": [
    "import os\n",
    "import pandas as pd\n",
    "import numpy as np\n",
    "import pydicom as dcm\n",
    "from datetime import datetime"
   ]
  },
  {
   "cell_type": "code",
   "execution_count": 99,
   "metadata": {},
   "outputs": [],
   "source": [
    "# load in the csv file as a pandas dataframe\n",
    "df = pd.read_csv('/home/hongfu/Dropbox/research/papers/preschool/preschool_new.csv',skipinitialspace=True)\n",
    "df1 = pd.read_csv('/home/hongfu/Dropbox/research/papers/preschool/Preschool data inventory2.csv',skipinitialspace=True)\n",
    "\n",
    "# drop columns with all NaN\n",
    "df1.dropna(axis=0, how='all', inplace=True)\n",
    "df1.dropna(axis=1, how='all', inplace=True)\n",
    "df.dropna(axis=0, how='all', inplace=True)\n",
    "df.dropna(axis=1, how='all', inplace=True)\n"
   ]
  },
  {
   "cell_type": "code",
   "execution_count": 100,
   "metadata": {},
   "outputs": [],
   "source": [
    "# read in the dicom and output 'StudyDate' and 'StudyTime'\n",
    "def extractTime(dicom_file):\n",
    "    dicom_strct = dcm.read_file(dicom_file)\n",
    "    return dicom_strct.StudyDate, dicom_strct.StudyTime\n",
    "\n",
    "StudyDateList = []\n",
    "StudyTimeList = []\n",
    "\n",
    "for subjects in df['subjects']:\n",
    "    path = os.path.join('/media/data/project_preschool/PreschoolData_clean/', subjects)\n",
    "    path = os.path.join(path, os.listdir(path)[0])\n",
    "    dicom_file = os.path.join(path, os.listdir(path)[0])\n",
    "    StudyDateList.append(extractTime(dicom_file)[0])\n",
    "    StudyTimeList.append(extractTime(dicom_file)[1])\n",
    "\n",
    "df['Study Date'] = StudyDateList\n",
    "df['Study Time'] = StudyTimeList\n",
    "\n",
    "# convert to Date and Time format\n",
    "def formatTime(studyTime):\n",
    "    return studyTime[0:2] + ':' + studyTime[2:4] + ':' + studyTime[4:6]\n",
    "\n",
    "df['Study Date'] = pd.to_datetime(df['Study Date'])\n",
    "df['Study Time'] = map(formatTime,df['Study Time'])\n",
    "\n",
    "df.set_index('subjects', inplace=True)\n",
    "df.index.rename('Study Code', inplace=True)\n",
    "\n",
    "df.to_csv('/home/hongfu/Dropbox/research/papers/preschool/added_time.csv')"
   ]
  },
  {
   "cell_type": "code",
   "execution_count": 101,
   "metadata": {},
   "outputs": [],
   "source": [
    "# merge df with df1\n",
    "df1.set_index('Study Code', inplace=True)\n",
    "df2 = df1.merge(df, how='outer', left_index=True, right_index=True)\n",
    "\n",
    "# read DTI dir to a dataFrame\n",
    "df5 = pd.DataFrame({'Study Code':os.listdir('/media/data/project_preschool/HONG_FU_DATA_DTI')})\n",
    "df5['DTI'] = 'yes'\n",
    "df5.set_index('Study Code', inplace=True)\n",
    "# merge DTI to all\n",
    "df2 = df2.merge(df5, how='outer', left_index=True, right_index=True)\n",
    "\n",
    "# change the column orders of df2\n",
    "df2 = df2[['Subject Number', 'Study Date', 'Study Time', 'QSM', 'DTI', 'T2* Quality?', 'status', 'note', 'Comments']]\n",
    "df2.rename(columns={'status':'correction'}, inplace=True)\n",
    "\n",
    "# sorted by subject number and study date\n",
    "df2 = df2.sort_values(by=['Subject Number', 'Study Date'])\n",
    "\n",
    "df2.to_csv('/home/hongfu/Dropbox/research/papers/preschool/preschool_all.csv')"
   ]
  },
  {
   "cell_type": "code",
   "execution_count": 102,
   "metadata": {},
   "outputs": [],
   "source": [
    "df3 = df2.loc[(df2['QSM'].str.lower()=='yes') & (df2['Study Date'].isnull()) & (df2['DTI'].str.lower()=='yes')]\n",
    "df3.to_csv('/home/hongfu/Dropbox/research/papers/preschool/preschool_missing_dti.csv')\n",
    "\n",
    "df6 = df2.loc[(df2['QSM'].str.lower()=='yes') & (df2['Study Date'].isnull())]\n",
    "df6.to_csv('/home/hongfu/Dropbox/research/papers/preschool/preschool_missing_qsm.csv')"
   ]
  },
  {
   "cell_type": "code",
   "execution_count": 104,
   "metadata": {},
   "outputs": [],
   "source": [
    "df4 = df2.loc[(df2['Study Date'].notnull()) & df2['note'].isnull() & (df2['correction'].str.lower()!='motion') & (df2['DTI'].str.lower()=='yes')]\n",
    "df4.to_csv('/home/hongfu/Dropbox/research/papers/preschool/preschool_clean_dti.csv')\n",
    "\n",
    "df7 = df2.loc[(df2['Study Date'].notnull()) & df2['note'].isnull() & (df2['correction'].str.lower()!='motion')]\n",
    "df7.to_csv('/home/hongfu/Dropbox/research/papers/preschool/preschool_clean_qsm.csv')"
   ]
  },
  {
   "cell_type": "code",
   "execution_count": 105,
   "metadata": {},
   "outputs": [],
   "source": [
    "# save to pickles\n",
    "df2.to_pickle('/home/hongfu/Dropbox/research/papers/preschool/preschool_all.pkl')"
   ]
  },
  {
   "cell_type": "code",
   "execution_count": 106,
   "metadata": {},
   "outputs": [
    {
     "data": {
      "text/plain": [
       "1    28\n",
       "4    19\n",
       "2    18\n",
       "3    14\n",
       "5     9\n",
       "6     4\n",
       "Name: Study Date, dtype: int64"
      ]
     },
     "execution_count": 106,
     "metadata": {},
     "output_type": "execute_result"
    }
   ],
   "source": [
    "# group and describe\n",
    "df7.groupby(['Subject Number']).count()['Study Date'].value_counts()"
   ]
  },
  {
   "cell_type": "code",
   "execution_count": null,
   "metadata": {},
   "outputs": [],
   "source": []
  },
  {
   "cell_type": "code",
   "execution_count": null,
   "metadata": {},
   "outputs": [],
   "source": []
  },
  {
   "cell_type": "code",
   "execution_count": null,
   "metadata": {},
   "outputs": [],
   "source": []
  },
  {
   "cell_type": "code",
   "execution_count": null,
   "metadata": {},
   "outputs": [],
   "source": []
  }
 ],
 "metadata": {
  "kernelspec": {
   "display_name": "Python 3",
   "language": "python",
   "name": "python3"
  },
  "language_info": {
   "codemirror_mode": {
    "name": "ipython",
    "version": 3
   },
   "file_extension": ".py",
   "mimetype": "text/x-python",
   "name": "python",
   "nbconvert_exporter": "python",
   "pygments_lexer": "ipython3",
   "version": "3.6.4"
  }
 },
 "nbformat": 4,
 "nbformat_minor": 2
}
