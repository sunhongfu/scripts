{
 "cells": [
  {
   "cell_type": "code",
   "execution_count": null,
   "metadata": {},
   "outputs": [],
   "source": [
    "z_prjs_file = '/Users/uqhsun8/Documents/MATLAB/scripts/pytorch_codes/image_unet_stack_prjs/z_prjs.txt'"
   ]
  },
  {
   "cell_type": "code",
   "execution_count": null,
   "metadata": {},
   "outputs": [],
   "source": [
    "        z_prjs_arr = [line.strip().split(\" \") for line in open(z_prjs_file)]\n",
    "        # convert z_prjs into a dic\n",
    "        z_prjs_keys = [z_prjs_arr[i][0] for i in range(0, len(z_prjs_arr))]\n",
    "        z_prjs_values = [z_prjs_arr[i][1:4] for i in range(0, len(z_prjs_arr))]\n",
    "        z_prjs_dict = dict(zip(z_prjs_keys, z_prjs_values))"
   ]
  },
  {
   "cell_type": "code",
   "execution_count": null,
   "metadata": {},
   "outputs": [],
   "source": [
    "list_path = '/Users/uqhsun8/Documents/MATLAB/scripts/pytorch_codes/invivo_IDs.txt'"
   ]
  },
  {
   "cell_type": "code",
   "execution_count": null,
   "metadata": {},
   "outputs": [],
   "source": [
    "img_ids = [i_id.strip() for i_id in open(list_path)]"
   ]
  },
  {
   "cell_type": "code",
   "execution_count": null,
   "metadata": {},
   "outputs": [],
   "source": [
    "root = '/Volumes/LaCie/CommQSM/invivo/data_for_training'\n",
    "files = []"
   ]
  },
  {
   "cell_type": "code",
   "execution_count": null,
   "metadata": {},
   "outputs": [],
   "source": [
    "        for name in img_ids:\n",
    "            field_file = root + \\\n",
    "                (\"/field/field_%s.nii\" % name)\n",
    "            label_file = root + (\"/chi/chi_%s.nii\" % name)\n",
    "            files.append({\n",
    "                \"field\": field_file,\n",
    "                \"prjs\": z_prjs_dict[name],\n",
    "                \"label\": label_file,\n",
    "                \"name\": name\n",
    "            })"
   ]
  },
  {
   "cell_type": "code",
   "execution_count": null,
   "metadata": {},
   "outputs": [],
   "source": [
    "index = 2"
   ]
  },
  {
   "cell_type": "code",
   "execution_count": null,
   "metadata": {},
   "outputs": [],
   "source": [
    "datafiles = files[index]"
   ]
  },
  {
   "cell_type": "code",
   "execution_count": 56,
   "metadata": {},
   "outputs": [
    {
     "output_type": "execute_result",
     "data": {
      "text/plain": "{'field': '/Volumes/LaCie/CommQSM/invivo/data_for_training/field/field_1-3.nii',\n 'prjs': ['0.000048', '-0.066274', '0.997801'],\n 'label': '/Volumes/LaCie/CommQSM/invivo/data_for_training/chi/chi_1-3.nii',\n 'name': '1-3'}"
     },
     "metadata": {},
     "execution_count": 56
    }
   ],
   "source": [
    "datafiles"
   ]
  },
  {
   "cell_type": "code",
   "execution_count": 78,
   "metadata": {},
   "outputs": [],
   "source": [
    "import nibabel as nib\n",
    "name = datafiles[\"name\"]\n",
    "# nifti read codes.\n",
    "nibfield = nib.load(datafiles[\"field\"])\n",
    "niblabel = nib.load(datafiles[\"label\"])\n",
    "import numpy as np"
   ]
  },
  {
   "cell_type": "code",
   "execution_count": 92,
   "metadata": {},
   "outputs": [],
   "source": [
    "        field = nibfield.get_data()\n",
    "        label = niblabel.get_data()\n",
    "\n",
    "        field = np.array(field)\n",
    "        label = np.array(label)"
   ]
  },
  {
   "cell_type": "code",
   "execution_count": 93,
   "metadata": {},
   "outputs": [],
   "source": [
    "prjs_elements = np.array([float(i) for i in datafiles[\"prjs\"]])"
   ]
  },
  {
   "cell_type": "code",
   "execution_count": 94,
   "metadata": {},
   "outputs": [],
   "source": [
    "import torch\n",
    "from torch.utils import data"
   ]
  },
  {
   "cell_type": "code",
   "execution_count": 95,
   "metadata": {},
   "outputs": [],
   "source": [
    "        size_prjs = list(field.shape)\n",
    "        size_prjs.append(prjs_elements.size)\n",
    "        prjs = prjs_elements*np.ones(size_prjs)\n",
    "\n",
    "        # convert the image data to torch.tesors and return.\n",
    "        field = torch.from_numpy(field)\n",
    "        prjs = torch.from_numpy(prjs)\n",
    "        label = torch.from_numpy(label)"
   ]
  },
  {
   "cell_type": "code",
   "execution_count": 96,
   "metadata": {},
   "outputs": [],
   "source": [
    "\n",
    "        field = torch.unsqueeze(field, 0)\n",
    "        prjs = prjs.permute(3, 0, 1, 2)\n",
    "\n",
    "        field_prjs = torch.cat(\n",
    "            [field.float(), prjs.float()], 0)\n",
    "\n",
    "        label = torch.unsqueeze(label, 0)\n",
    "\n",
    "        field_prjs = field_prjs.float()\n",
    "        label = label.float()        \n",
    "        field_prjs = field_prjs.permute(1, 2, 3, 0)"
   ]
  },
  {
   "cell_type": "code",
   "execution_count": 97,
   "metadata": {},
   "outputs": [],
   "source": [
    "field_prjs = field_prjs.numpy()"
   ]
  },
  {
   "cell_type": "code",
   "execution_count": 98,
   "metadata": {},
   "outputs": [
    {
     "output_type": "execute_result",
     "data": {
      "text/plain": "(48, 48, 48, 4)"
     },
     "metadata": {},
     "execution_count": 98
    }
   ],
   "source": [
    "field_prjs.shape"
   ]
  },
  {
   "cell_type": "code",
   "execution_count": 99,
   "metadata": {},
   "outputs": [],
   "source": [
    "aff = nibfield.affine"
   ]
  },
  {
   "cell_type": "code",
   "execution_count": 100,
   "metadata": {},
   "outputs": [],
   "source": [
    "clipped_msk = nib.Nifti1Image(field_prjs, aff)"
   ]
  },
  {
   "cell_type": "code",
   "execution_count": 101,
   "metadata": {},
   "outputs": [],
   "source": [
    "nib.save(clipped_msk, 'field_prjs.nii')"
   ]
  },
  {
   "cell_type": "code",
   "execution_count": 76,
   "metadata": {},
   "outputs": [
    {
     "output_type": "execute_result",
     "data": {
      "text/plain": "(4, 48, 48, 48)"
     },
     "metadata": {},
     "execution_count": 76
    }
   ],
   "source": [
    "field_prjs.shape"
   ]
  },
  {
   "cell_type": "code",
   "execution_count": null,
   "metadata": {},
   "outputs": [],
   "source": [
    "prjs_elements"
   ]
  },
  {
   "cell_type": "code",
   "execution_count": null,
   "metadata": {},
   "outputs": [],
   "source": [
    "np.ones(size_prjs)*prjs_elements"
   ]
  },
  {
   "cell_type": "code",
   "execution_count": null,
   "metadata": {},
   "outputs": [],
   "source": [
    "b = a.append(prjs_elements.size)"
   ]
  },
  {
   "cell_type": "code",
   "execution_count": null,
   "metadata": {},
   "outputs": [],
   "source": [
    "a"
   ]
  },
  {
   "cell_type": "code",
   "execution_count": null,
   "metadata": {},
   "outputs": [],
   "source": []
  }
 ],
 "metadata": {
  "kernelspec": {
   "display_name": "Python 3",
   "language": "python",
   "name": "python3"
  },
  "language_info": {
   "codemirror_mode": {
    "name": "ipython",
    "version": 3
   },
   "file_extension": ".py",
   "mimetype": "text/x-python",
   "name": "python",
   "nbconvert_exporter": "python",
   "pygments_lexer": "ipython3",
   "version": "3.8.3-final"
  }
 },
 "nbformat": 4,
 "nbformat_minor": 4
}