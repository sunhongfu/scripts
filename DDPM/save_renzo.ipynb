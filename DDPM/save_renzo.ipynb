{
 "cells": [
  {
   "cell_type": "code",
   "execution_count": 4,
   "metadata": {},
   "outputs": [],
   "source": [
    "import nibabel as nib\n",
    "import os\n",
    "import numpy as np\n",
    "src_folder = '/Volumes/LaCie_Bottom/COSMOS/COSMOS_3T/cosmos_ge3T_renzo/QSM_SPGRE_CENTER/QSM_SPGR_GE/src'\n"
   ]
  },
  {
   "cell_type": "code",
   "execution_count": 6,
   "metadata": {},
   "outputs": [],
   "source": [
    "\n",
    "mag_data = []\n",
    "ph_data = []\n",
    "for echonum in range(1,9):\n",
    "    mag_filename = f'mag{echonum}.nii'\n",
    "    mag_img = nib.load(os.path.join(src_folder,mag_filename))\n",
    "    mag_data.append(mag_img.get_fdata())\n",
    "    ph_filename = f'ph{echonum}.nii'\n",
    "    ph_img = nib.load(os.path.join(src_folder,ph_filename))\n",
    "    ph_data.append(ph_img.get_fdata())\n",
    "\n",
    "mag_data = np.stack(mag_data, axis=3)\n",
    "ph_data = np.stack(ph_data, axis=3)\n",
    "cpx_data = mag_data * np.exp(1j * ph_data)"
   ]
  },
  {
   "cell_type": "code",
   "execution_count": 7,
   "metadata": {},
   "outputs": [
    {
     "data": {
      "text/plain": [
       "(256, 256, 128, 8)"
      ]
     },
     "execution_count": 7,
     "metadata": {},
     "output_type": "execute_result"
    }
   ],
   "source": [
    "np.shape(cpx_data)"
   ]
  },
  {
   "cell_type": "code",
   "execution_count": 8,
   "metadata": {},
   "outputs": [
    {
     "data": {
      "text/plain": [
       "(-1452-4458j)"
      ]
     },
     "execution_count": 8,
     "metadata": {},
     "output_type": "execute_result"
    }
   ],
   "source": [
    "cpx_data[100,100,100,2]"
   ]
  },
  {
   "cell_type": "code",
   "execution_count": 12,
   "metadata": {},
   "outputs": [],
   "source": [
    "np.save('renzo_central_src_complex.npy', cpx_data)"
   ]
  },
  {
   "cell_type": "code",
   "execution_count": 5,
   "metadata": {},
   "outputs": [
    {
     "data": {
      "text/plain": [
       "'/Users/uqhsun8/Documents/MATLAB/scripts/DDPM'"
      ]
     },
     "execution_count": 5,
     "metadata": {},
     "output_type": "execute_result"
    }
   ],
   "source": [
    "os.getcwd()"
   ]
  }
 ],
 "metadata": {
  "kernelspec": {
   "display_name": "base",
   "language": "python",
   "name": "python3"
  },
  "language_info": {
   "codemirror_mode": {
    "name": "ipython",
    "version": 3
   },
   "file_extension": ".py",
   "mimetype": "text/x-python",
   "name": "python",
   "nbconvert_exporter": "python",
   "pygments_lexer": "ipython3",
   "version": "3.11.4"
  },
  "orig_nbformat": 4
 },
 "nbformat": 4,
 "nbformat_minor": 2
}
